{
  "cells": [
    {
      "cell_type": "markdown",
      "metadata": {
        "id": "view-in-github",
        "colab_type": "text"
      },
      "source": [
        "<a href=\"https://colab.research.google.com/github/TarekBellalouna/la7winta/blob/ecommerce/Systeme_de_recommandation.ipynb\" target=\"_parent\"><img src=\"https://colab.research.google.com/assets/colab-badge.svg\" alt=\"Open In Colab\"/></a>"
      ]
    },
    {
      "cell_type": "code",
      "execution_count": 19,
      "metadata": {
        "colab": {
          "base_uri": "https://localhost:8080/"
        },
        "id": "abEqV8Ci68qF",
        "outputId": "c65fd920-5317-4204-8f8e-3bfd77d61198"
      },
      "outputs": [
        {
          "output_type": "stream",
          "name": "stdout",
          "text": [
            "Requirement already satisfied: scikit-surprise in /usr/local/lib/python3.7/dist-packages (1.1.1)\n",
            "Requirement already satisfied: numpy>=1.11.2 in /usr/local/lib/python3.7/dist-packages (from scikit-surprise) (1.21.6)\n",
            "Requirement already satisfied: joblib>=0.11 in /usr/local/lib/python3.7/dist-packages (from scikit-surprise) (1.1.0)\n",
            "Requirement already satisfied: scipy>=1.0.0 in /usr/local/lib/python3.7/dist-packages (from scikit-surprise) (1.4.1)\n",
            "Requirement already satisfied: six>=1.10.0 in /usr/local/lib/python3.7/dist-packages (from scikit-surprise) (1.15.0)\n"
          ]
        }
      ],
      "source": [
        "!pip install scikit-surprise"
      ]
    },
    {
      "cell_type": "code",
      "execution_count": 20,
      "metadata": {
        "colab": {
          "base_uri": "https://localhost:8080/"
        },
        "id": "IGr_axDK7GPc",
        "outputId": "6de9d479-67f6-4d68-d555-aba5d5fb114f"
      },
      "outputs": [
        {
          "output_type": "stream",
          "name": "stdout",
          "text": [
            "Requirement already satisfied: colabcode in /usr/local/lib/python3.7/dist-packages (0.3.0)\n",
            "Requirement already satisfied: jupyterlab==3.0.7 in /usr/local/lib/python3.7/dist-packages (from colabcode) (3.0.7)\n",
            "Requirement already satisfied: uvicorn==0.13.1 in /usr/local/lib/python3.7/dist-packages (from colabcode) (0.13.1)\n",
            "Requirement already satisfied: nest-asyncio==1.4.3 in /usr/local/lib/python3.7/dist-packages (from colabcode) (1.4.3)\n",
            "Requirement already satisfied: pyngrok>=5.0.0 in /usr/local/lib/python3.7/dist-packages (from colabcode) (5.1.0)\n",
            "Requirement already satisfied: jupyter-core in /usr/local/lib/python3.7/dist-packages (from jupyterlab==3.0.7->colabcode) (4.10.0)\n",
            "Requirement already satisfied: jupyterlab-server~=2.0 in /usr/local/lib/python3.7/dist-packages (from jupyterlab==3.0.7->colabcode) (2.13.0)\n",
            "Requirement already satisfied: ipython in /usr/local/lib/python3.7/dist-packages (from jupyterlab==3.0.7->colabcode) (5.5.0)\n",
            "Requirement already satisfied: packaging in /usr/local/lib/python3.7/dist-packages (from jupyterlab==3.0.7->colabcode) (21.3)\n",
            "Requirement already satisfied: jinja2>=2.10 in /usr/local/lib/python3.7/dist-packages (from jupyterlab==3.0.7->colabcode) (3.1.2)\n",
            "Requirement already satisfied: nbclassic~=0.2 in /usr/local/lib/python3.7/dist-packages (from jupyterlab==3.0.7->colabcode) (0.3.7)\n",
            "Requirement already satisfied: tornado>=6.1.0 in /usr/local/lib/python3.7/dist-packages (from jupyterlab==3.0.7->colabcode) (6.1)\n",
            "Requirement already satisfied: jupyter-server~=1.2 in /usr/local/lib/python3.7/dist-packages (from jupyterlab==3.0.7->colabcode) (1.17.0)\n",
            "Requirement already satisfied: h11>=0.8 in /usr/local/lib/python3.7/dist-packages (from uvicorn==0.13.1->colabcode) (0.13.0)\n",
            "Requirement already satisfied: typing-extensions in /usr/local/lib/python3.7/dist-packages (from uvicorn==0.13.1->colabcode) (4.2.0)\n",
            "Requirement already satisfied: click==7.* in /usr/local/lib/python3.7/dist-packages (from uvicorn==0.13.1->colabcode) (7.1.2)\n",
            "Requirement already satisfied: MarkupSafe>=2.0 in /usr/local/lib/python3.7/dist-packages (from jinja2>=2.10->jupyterlab==3.0.7->colabcode) (2.0.1)\n",
            "Requirement already satisfied: jupyter-client>=6.1.12 in /usr/local/lib/python3.7/dist-packages (from jupyter-server~=1.2->jupyterlab==3.0.7->colabcode) (6.1.12)\n",
            "Requirement already satisfied: websocket-client in /usr/local/lib/python3.7/dist-packages (from jupyter-server~=1.2->jupyterlab==3.0.7->colabcode) (1.3.2)\n",
            "Requirement already satisfied: traitlets>=5.1 in /usr/local/lib/python3.7/dist-packages (from jupyter-server~=1.2->jupyterlab==3.0.7->colabcode) (5.1.1)\n",
            "Requirement already satisfied: nbconvert>=6.4.4 in /usr/local/lib/python3.7/dist-packages (from jupyter-server~=1.2->jupyterlab==3.0.7->colabcode) (6.5.0)\n",
            "Requirement already satisfied: Send2Trash in /usr/local/lib/python3.7/dist-packages (from jupyter-server~=1.2->jupyterlab==3.0.7->colabcode) (1.8.0)\n",
            "Requirement already satisfied: prometheus-client in /usr/local/lib/python3.7/dist-packages (from jupyter-server~=1.2->jupyterlab==3.0.7->colabcode) (0.14.1)\n",
            "Requirement already satisfied: nbformat>=5.2.0 in /usr/local/lib/python3.7/dist-packages (from jupyter-server~=1.2->jupyterlab==3.0.7->colabcode) (5.3.0)\n",
            "Requirement already satisfied: anyio<4,>=3.1.0 in /usr/local/lib/python3.7/dist-packages (from jupyter-server~=1.2->jupyterlab==3.0.7->colabcode) (3.5.0)\n",
            "Requirement already satisfied: terminado>=0.8.3 in /usr/local/lib/python3.7/dist-packages (from jupyter-server~=1.2->jupyterlab==3.0.7->colabcode) (0.13.3)\n",
            "Requirement already satisfied: pyzmq>=17 in /usr/local/lib/python3.7/dist-packages (from jupyter-server~=1.2->jupyterlab==3.0.7->colabcode) (22.3.0)\n",
            "Requirement already satisfied: argon2-cffi in /usr/local/lib/python3.7/dist-packages (from jupyter-server~=1.2->jupyterlab==3.0.7->colabcode) (21.3.0)\n",
            "Requirement already satisfied: sniffio>=1.1 in /usr/local/lib/python3.7/dist-packages (from anyio<4,>=3.1.0->jupyter-server~=1.2->jupyterlab==3.0.7->colabcode) (1.2.0)\n",
            "Requirement already satisfied: idna>=2.8 in /usr/local/lib/python3.7/dist-packages (from anyio<4,>=3.1.0->jupyter-server~=1.2->jupyterlab==3.0.7->colabcode) (2.10)\n",
            "Requirement already satisfied: python-dateutil>=2.1 in /usr/local/lib/python3.7/dist-packages (from jupyter-client>=6.1.12->jupyter-server~=1.2->jupyterlab==3.0.7->colabcode) (2.8.2)\n",
            "Requirement already satisfied: importlib-metadata>=3.6 in /usr/local/lib/python3.7/dist-packages (from jupyterlab-server~=2.0->jupyterlab==3.0.7->colabcode) (4.11.3)\n",
            "Requirement already satisfied: jsonschema>=3.0.1 in /usr/local/lib/python3.7/dist-packages (from jupyterlab-server~=2.0->jupyterlab==3.0.7->colabcode) (4.3.3)\n",
            "Requirement already satisfied: requests in /usr/local/lib/python3.7/dist-packages (from jupyterlab-server~=2.0->jupyterlab==3.0.7->colabcode) (2.23.0)\n",
            "Requirement already satisfied: babel in /usr/local/lib/python3.7/dist-packages (from jupyterlab-server~=2.0->jupyterlab==3.0.7->colabcode) (2.10.1)\n",
            "Requirement already satisfied: json5 in /usr/local/lib/python3.7/dist-packages (from jupyterlab-server~=2.0->jupyterlab==3.0.7->colabcode) (0.9.6)\n",
            "Requirement already satisfied: zipp>=0.5 in /usr/local/lib/python3.7/dist-packages (from importlib-metadata>=3.6->jupyterlab-server~=2.0->jupyterlab==3.0.7->colabcode) (3.8.0)\n",
            "Requirement already satisfied: attrs>=17.4.0 in /usr/local/lib/python3.7/dist-packages (from jsonschema>=3.0.1->jupyterlab-server~=2.0->jupyterlab==3.0.7->colabcode) (21.4.0)\n",
            "Requirement already satisfied: importlib-resources>=1.4.0 in /usr/local/lib/python3.7/dist-packages (from jsonschema>=3.0.1->jupyterlab-server~=2.0->jupyterlab==3.0.7->colabcode) (5.7.1)\n",
            "Requirement already satisfied: pyrsistent!=0.17.0,!=0.17.1,!=0.17.2,>=0.14.0 in /usr/local/lib/python3.7/dist-packages (from jsonschema>=3.0.1->jupyterlab-server~=2.0->jupyterlab==3.0.7->colabcode) (0.18.1)\n",
            "Requirement already satisfied: notebook-shim>=0.1.0 in /usr/local/lib/python3.7/dist-packages (from nbclassic~=0.2->jupyterlab==3.0.7->colabcode) (0.1.0)\n",
            "Requirement already satisfied: notebook<7 in /usr/local/lib/python3.7/dist-packages (from nbclassic~=0.2->jupyterlab==3.0.7->colabcode) (5.3.1)\n",
            "Requirement already satisfied: beautifulsoup4 in /usr/local/lib/python3.7/dist-packages (from nbconvert>=6.4.4->jupyter-server~=1.2->jupyterlab==3.0.7->colabcode) (4.6.3)\n",
            "Requirement already satisfied: entrypoints>=0.2.2 in /usr/local/lib/python3.7/dist-packages (from nbconvert>=6.4.4->jupyter-server~=1.2->jupyterlab==3.0.7->colabcode) (0.4)\n",
            "Requirement already satisfied: pygments>=2.4.1 in /usr/local/lib/python3.7/dist-packages (from nbconvert>=6.4.4->jupyter-server~=1.2->jupyterlab==3.0.7->colabcode) (2.6.1)\n",
            "Requirement already satisfied: defusedxml in /usr/local/lib/python3.7/dist-packages (from nbconvert>=6.4.4->jupyter-server~=1.2->jupyterlab==3.0.7->colabcode) (0.7.1)\n",
            "Requirement already satisfied: nbclient>=0.5.0 in /usr/local/lib/python3.7/dist-packages (from nbconvert>=6.4.4->jupyter-server~=1.2->jupyterlab==3.0.7->colabcode) (0.6.2)\n",
            "Requirement already satisfied: mistune<2,>=0.8.1 in /usr/local/lib/python3.7/dist-packages (from nbconvert>=6.4.4->jupyter-server~=1.2->jupyterlab==3.0.7->colabcode) (0.8.4)\n",
            "Requirement already satisfied: pandocfilters>=1.4.1 in /usr/local/lib/python3.7/dist-packages (from nbconvert>=6.4.4->jupyter-server~=1.2->jupyterlab==3.0.7->colabcode) (1.5.0)\n",
            "Requirement already satisfied: bleach in /usr/local/lib/python3.7/dist-packages (from nbconvert>=6.4.4->jupyter-server~=1.2->jupyterlab==3.0.7->colabcode) (5.0.0)\n",
            "Requirement already satisfied: tinycss2 in /usr/local/lib/python3.7/dist-packages (from nbconvert>=6.4.4->jupyter-server~=1.2->jupyterlab==3.0.7->colabcode) (1.1.1)\n",
            "Requirement already satisfied: jupyterlab-pygments in /usr/local/lib/python3.7/dist-packages (from nbconvert>=6.4.4->jupyter-server~=1.2->jupyterlab==3.0.7->colabcode) (0.2.2)\n",
            "Requirement already satisfied: fastjsonschema in /usr/local/lib/python3.7/dist-packages (from nbformat>=5.2.0->jupyter-server~=1.2->jupyterlab==3.0.7->colabcode) (2.15.3)\n",
            "Requirement already satisfied: ipykernel in /usr/local/lib/python3.7/dist-packages (from notebook<7->nbclassic~=0.2->jupyterlab==3.0.7->colabcode) (4.10.1)\n",
            "Requirement already satisfied: ipython-genutils in /usr/local/lib/python3.7/dist-packages (from notebook<7->nbclassic~=0.2->jupyterlab==3.0.7->colabcode) (0.2.0)\n",
            "Requirement already satisfied: PyYAML in /usr/local/lib/python3.7/dist-packages (from pyngrok>=5.0.0->colabcode) (3.13)\n",
            "Requirement already satisfied: six>=1.5 in /usr/local/lib/python3.7/dist-packages (from python-dateutil>=2.1->jupyter-client>=6.1.12->jupyter-server~=1.2->jupyterlab==3.0.7->colabcode) (1.15.0)\n",
            "Requirement already satisfied: ptyprocess in /usr/local/lib/python3.7/dist-packages (from terminado>=0.8.3->jupyter-server~=1.2->jupyterlab==3.0.7->colabcode) (0.7.0)\n",
            "Requirement already satisfied: argon2-cffi-bindings in /usr/local/lib/python3.7/dist-packages (from argon2-cffi->jupyter-server~=1.2->jupyterlab==3.0.7->colabcode) (21.2.0)\n",
            "Requirement already satisfied: cffi>=1.0.1 in /usr/local/lib/python3.7/dist-packages (from argon2-cffi-bindings->argon2-cffi->jupyter-server~=1.2->jupyterlab==3.0.7->colabcode) (1.15.0)\n",
            "Requirement already satisfied: pycparser in /usr/local/lib/python3.7/dist-packages (from cffi>=1.0.1->argon2-cffi-bindings->argon2-cffi->jupyter-server~=1.2->jupyterlab==3.0.7->colabcode) (2.21)\n",
            "Requirement already satisfied: pytz>=2015.7 in /usr/local/lib/python3.7/dist-packages (from babel->jupyterlab-server~=2.0->jupyterlab==3.0.7->colabcode) (2022.1)\n",
            "Requirement already satisfied: webencodings in /usr/local/lib/python3.7/dist-packages (from bleach->nbconvert>=6.4.4->jupyter-server~=1.2->jupyterlab==3.0.7->colabcode) (0.5.1)\n",
            "Requirement already satisfied: decorator in /usr/local/lib/python3.7/dist-packages (from ipython->jupyterlab==3.0.7->colabcode) (4.4.2)\n",
            "Requirement already satisfied: simplegeneric>0.8 in /usr/local/lib/python3.7/dist-packages (from ipython->jupyterlab==3.0.7->colabcode) (0.8.1)\n",
            "Requirement already satisfied: pexpect in /usr/local/lib/python3.7/dist-packages (from ipython->jupyterlab==3.0.7->colabcode) (4.8.0)\n",
            "Requirement already satisfied: prompt-toolkit<2.0.0,>=1.0.4 in /usr/local/lib/python3.7/dist-packages (from ipython->jupyterlab==3.0.7->colabcode) (1.0.18)\n",
            "Requirement already satisfied: pickleshare in /usr/local/lib/python3.7/dist-packages (from ipython->jupyterlab==3.0.7->colabcode) (0.7.5)\n",
            "Requirement already satisfied: setuptools>=18.5 in /usr/local/lib/python3.7/dist-packages (from ipython->jupyterlab==3.0.7->colabcode) (57.4.0)\n",
            "Requirement already satisfied: wcwidth in /usr/local/lib/python3.7/dist-packages (from prompt-toolkit<2.0.0,>=1.0.4->ipython->jupyterlab==3.0.7->colabcode) (0.2.5)\n",
            "Requirement already satisfied: pyparsing!=3.0.5,>=2.0.2 in /usr/local/lib/python3.7/dist-packages (from packaging->jupyterlab==3.0.7->colabcode) (3.0.8)\n",
            "Requirement already satisfied: certifi>=2017.4.17 in /usr/local/lib/python3.7/dist-packages (from requests->jupyterlab-server~=2.0->jupyterlab==3.0.7->colabcode) (2021.10.8)\n",
            "Requirement already satisfied: urllib3!=1.25.0,!=1.25.1,<1.26,>=1.21.1 in /usr/local/lib/python3.7/dist-packages (from requests->jupyterlab-server~=2.0->jupyterlab==3.0.7->colabcode) (1.24.3)\n",
            "Requirement already satisfied: chardet<4,>=3.0.2 in /usr/local/lib/python3.7/dist-packages (from requests->jupyterlab-server~=2.0->jupyterlab==3.0.7->colabcode) (3.0.4)\n"
          ]
        }
      ],
      "source": [
        "!pip install colabcode"
      ]
    },
    {
      "cell_type": "code",
      "execution_count": 21,
      "metadata": {
        "colab": {
          "base_uri": "https://localhost:8080/"
        },
        "id": "v-7rdVjv7LPa",
        "outputId": "7fd1555a-3e43-4313-8c86-414e05c7d9fa"
      },
      "outputs": [
        {
          "output_type": "stream",
          "name": "stdout",
          "text": [
            "Requirement already satisfied: fastapi in /usr/local/lib/python3.7/dist-packages (0.76.0)\n",
            "Requirement already satisfied: pydantic!=1.7,!=1.7.1,!=1.7.2,!=1.7.3,!=1.8,!=1.8.1,<2.0.0,>=1.6.2 in /usr/local/lib/python3.7/dist-packages (from fastapi) (1.9.0)\n",
            "Requirement already satisfied: starlette==0.18.0 in /usr/local/lib/python3.7/dist-packages (from fastapi) (0.18.0)\n",
            "Requirement already satisfied: anyio<4,>=3.0.0 in /usr/local/lib/python3.7/dist-packages (from starlette==0.18.0->fastapi) (3.5.0)\n",
            "Requirement already satisfied: typing-extensions in /usr/local/lib/python3.7/dist-packages (from starlette==0.18.0->fastapi) (4.2.0)\n",
            "Requirement already satisfied: sniffio>=1.1 in /usr/local/lib/python3.7/dist-packages (from anyio<4,>=3.0.0->starlette==0.18.0->fastapi) (1.2.0)\n",
            "Requirement already satisfied: idna>=2.8 in /usr/local/lib/python3.7/dist-packages (from anyio<4,>=3.0.0->starlette==0.18.0->fastapi) (2.10)\n"
          ]
        }
      ],
      "source": [
        "!pip install fastapi"
      ]
    },
    {
      "cell_type": "code",
      "execution_count": 22,
      "metadata": {
        "id": "aO51jPgH7PJH"
      },
      "outputs": [],
      "source": [
        "from surprise import Dataset, Reader\n",
        "import pandas as pd\n",
        "from surprise import SVD\n",
        "from surprise import Dataset\n",
        "from surprise import accuracy\n",
        "from surprise.model_selection import train_test_split\n",
        "from surprise import KNNBasic,  KNNWithMeans, KNNBaseline\n",
        "from surprise.model_selection import KFold\n",
        "from surprise import Reader\n",
        "from surprise import NormalPredictor\n",
        "from surprise.model_selection import cross_validate\n",
        "import matplotlib.pyplot as plt\n",
        "import seaborn as sns\n",
        "from surprise.model_selection import GridSearchCV\n",
        "from collections import defaultdict\n",
        "from colabcode import ColabCode\n",
        "from fastapi import FastAPI\n",
        "import json"
      ]
    },
    {
      "cell_type": "code",
      "execution_count": 23,
      "metadata": {
        "id": "U3g6yl4j7Ska"
      },
      "outputs": [],
      "source": [
        "import pandas as pd\n",
        "\n",
        "data = {'Profils':  ['Mohamed Youssef', 'Mohamed Yassine','Amr Bellalouna','Hamza Razgallah','Nour Zemni','Anis Kraiem','Akram Thabet','Ela Debichi','Selim ben Aich','Bassem Jadoui','Karim mannai', 'Mohamed Amara','Slim Jemai','Mehdi Hantous','Skander Bachta','Ala ben Ali','Bilel Moussa','Iheb Guezguez','Mounir Maalej','Zied Maalej'],\n",
        "        'Products': ['Short','T-Shirt','Shirt','Pants','Glasses','Watch','Shoes','Sneakers','Jeans','Sweats','Coats','Socks','Jacket','Veste','Robes','Jeans Armani','Shirt zara','Sneakers Nike','Sweat Adidas','Jeans Lee Cooper'],\n",
        "        'Appreciation':[4,1,3,4,3,5,2,3,3,1,2,5,5,3,1,4,3,1,2,2]\n",
        "        }\n",
        "\n",
        "df = pd.DataFrame (data, columns = ['Profils','Products','Appreciation'])"
      ]
    },
    {
      "cell_type": "code",
      "execution_count": 24,
      "metadata": {
        "id": "tLA6hPfX7aWI"
      },
      "outputs": [],
      "source": [
        "# A reader is still needed but only the rating_scale param is requiered.\n",
        "reader = Reader(rating_scale=(1, 5))"
      ]
    },
    {
      "cell_type": "code",
      "execution_count": 25,
      "metadata": {
        "id": "gpdMT9OD7cpr"
      },
      "outputs": [],
      "source": [
        "data = Dataset.load_from_df(df,reader)"
      ]
    },
    {
      "cell_type": "code",
      "execution_count": 26,
      "metadata": {
        "colab": {
          "base_uri": "https://localhost:8080/"
        },
        "id": "dSZUhtAS7gAT",
        "outputId": "b4e06961-8ee6-4cd6-d942-df8697cc98ba"
      },
      "outputs": [
        {
          "output_type": "stream",
          "name": "stdout",
          "text": [
            "Computing the msd similarity matrix...\n",
            "Done computing similarity matrix.\n",
            "RMSE: 1.5249\n",
            "Computing the msd similarity matrix...\n",
            "Done computing similarity matrix.\n",
            "RMSE: 1.3447\n",
            "Computing the msd similarity matrix...\n",
            "Done computing similarity matrix.\n",
            "RMSE: 1.1744\n"
          ]
        }
      ],
      "source": [
        "kf = KFold(n_splits=3)\n",
        "algo = KNNBasic()\n",
        "best_algo = None\n",
        "best_rmse = 1000.0\n",
        "best_pred = None\n",
        "for trainset, testset in kf.split(data):\n",
        "    # train and test algorithm.\n",
        "    algo.fit(trainset)\n",
        "    predictions = algo.test(testset)\n",
        "    # Compute and print Root Mean Squared Error\n",
        "    rmse = accuracy.rmse(predictions, verbose=True)\n",
        "    if rmse < best_rmse:\n",
        "        best_algo = algo\n",
        "        best_pred = predictions"
      ]
    },
    {
      "cell_type": "code",
      "execution_count": 28,
      "metadata": {
        "id": "F2JC5U_M7lXp"
      },
      "outputs": [],
      "source": [
        "def get_best_products(predictions, n=10):\n",
        "    '''Return the top-N recommendation for each user from a set of predictions.\n",
        "\n",
        "    Args:\n",
        "        predictions(list of Prediction objects): The list of predictions, as\n",
        "            returned by the test method of an algorithm.\n",
        "        n(int): The number of recommendation to output for each user. Default\n",
        "            is 10.\n",
        "\n",
        "    Returns:\n",
        "    A dict where keys are user (raw) ids and values are lists of tuples:\n",
        "        [(raw item id, rating estimation), ...] of size n.\n",
        "    '''\n",
        "\n",
        "    # First map the predictions to each user.\n",
        "    best_products = defaultdict(list)\n",
        "    for uid, iid, true_r, est, _ in predictions:\n",
        "        best_products[uid].append((iid, est))\n",
        "\n",
        "    # Then sort the predictions for each user and retrieve the k highest ones.\n",
        "    for uid, user_ratings in best_products.items():\n",
        "        user_ratings.sort(key=lambda x: x[1], reverse=True)\n",
        "        best_products[uid] = user_ratings[:n]\n",
        "\n",
        "    return best_products"
      ]
    },
    {
      "cell_type": "code",
      "execution_count": 27,
      "metadata": {
        "colab": {
          "base_uri": "https://localhost:8080/"
        },
        "id": "-N54IIYo7kyq",
        "outputId": "43dcd227-bd14-450a-8a68-7d40d6edeec1"
      },
      "outputs": [
        {
          "output_type": "execute_result",
          "data": {
            "text/plain": [
              "[Prediction(uid='Nour Zemni', iid='Glasses', r_ui=3.0, est=2.7857142857142856, details={'was_impossible': True, 'reason': 'User and/or item is unknown.'}),\n",
              " Prediction(uid='Mohamed Amara', iid='Socks', r_ui=5.0, est=2.7857142857142856, details={'was_impossible': True, 'reason': 'User and/or item is unknown.'}),\n",
              " Prediction(uid='Mohamed Yassine', iid='T-Shirt', r_ui=1.0, est=2.7857142857142856, details={'was_impossible': True, 'reason': 'User and/or item is unknown.'}),\n",
              " Prediction(uid='Amr Bellalouna', iid='Shirt', r_ui=3.0, est=2.7857142857142856, details={'was_impossible': True, 'reason': 'User and/or item is unknown.'}),\n",
              " Prediction(uid='Ela Debichi', iid='Sneakers', r_ui=3.0, est=2.7857142857142856, details={'was_impossible': True, 'reason': 'User and/or item is unknown.'}),\n",
              " Prediction(uid='Bilel Moussa', iid='Shirt zara', r_ui=3.0, est=2.7857142857142856, details={'was_impossible': True, 'reason': 'User and/or item is unknown.'})]"
            ]
          },
          "metadata": {},
          "execution_count": 27
        }
      ],
      "source": [
        "best_pred"
      ]
    },
    {
      "cell_type": "code",
      "execution_count": 29,
      "metadata": {
        "id": "E8NC_TJY7oz7"
      },
      "outputs": [],
      "source": [
        "# Than predict ratings for all pairs (u, i) that are NOT in the training set.\n",
        "testset = trainset.build_anti_testset()\n",
        "predictions = algo.test(testset)\n",
        "\n",
        "best_products = get_best_products(predictions, n=10)"
      ]
    },
    {
      "cell_type": "code",
      "execution_count": 30,
      "metadata": {
        "colab": {
          "base_uri": "https://localhost:8080/"
        },
        "id": "YAaLY00b7sra",
        "outputId": "9db48c2d-a0c0-4508-8d4f-76ce659b4601"
      },
      "outputs": [
        {
          "output_type": "execute_result",
          "data": {
            "text/plain": [
              "defaultdict(list,\n",
              "            {'Akram Thabet': [('Robes', 2.7857142857142856),\n",
              "              ('Jacket', 2.7857142857142856),\n",
              "              ('Veste', 2.7857142857142856),\n",
              "              ('Coats', 2.7857142857142856),\n",
              "              ('Jeans Lee Cooper', 2.7857142857142856),\n",
              "              ('Short', 2.7857142857142856),\n",
              "              ('Watch', 2.7857142857142856),\n",
              "              ('Jeans', 2.7857142857142856),\n",
              "              ('Pants', 2.7857142857142856),\n",
              "              ('Jeans Armani', 2.7857142857142856)],\n",
              "             'Ala ben Ali': [('Robes', 2.7857142857142856),\n",
              "              ('Jacket', 2.7857142857142856),\n",
              "              ('Veste', 2.7857142857142856),\n",
              "              ('Coats', 2.7857142857142856),\n",
              "              ('Jeans Lee Cooper', 2.7857142857142856),\n",
              "              ('Short', 2.7857142857142856),\n",
              "              ('Watch', 2.7857142857142856),\n",
              "              ('Shoes', 2.7857142857142856),\n",
              "              ('Jeans', 2.7857142857142856),\n",
              "              ('Pants', 2.7857142857142856)],\n",
              "             'Anis Kraiem': [('Robes', 2.7857142857142856),\n",
              "              ('Jacket', 2.7857142857142856),\n",
              "              ('Veste', 2.7857142857142856),\n",
              "              ('Coats', 2.7857142857142856),\n",
              "              ('Jeans Lee Cooper', 2.7857142857142856),\n",
              "              ('Short', 2.7857142857142856),\n",
              "              ('Shoes', 2.7857142857142856),\n",
              "              ('Jeans', 2.7857142857142856),\n",
              "              ('Pants', 2.7857142857142856),\n",
              "              ('Jeans Armani', 2.7857142857142856)],\n",
              "             'Bassem Jadoui': [('Robes', 2.7857142857142856),\n",
              "              ('Jacket', 2.7857142857142856),\n",
              "              ('Veste', 2.7857142857142856),\n",
              "              ('Coats', 2.7857142857142856),\n",
              "              ('Jeans Lee Cooper', 2.7857142857142856),\n",
              "              ('Short', 2.7857142857142856),\n",
              "              ('Watch', 2.7857142857142856),\n",
              "              ('Shoes', 2.7857142857142856),\n",
              "              ('Jeans', 2.7857142857142856),\n",
              "              ('Pants', 2.7857142857142856)],\n",
              "             'Hamza Razgallah': [('Robes', 2.7857142857142856),\n",
              "              ('Jacket', 2.7857142857142856),\n",
              "              ('Veste', 2.7857142857142856),\n",
              "              ('Coats', 2.7857142857142856),\n",
              "              ('Jeans Lee Cooper', 2.7857142857142856),\n",
              "              ('Short', 2.7857142857142856),\n",
              "              ('Watch', 2.7857142857142856),\n",
              "              ('Shoes', 2.7857142857142856),\n",
              "              ('Jeans', 2.7857142857142856),\n",
              "              ('Jeans Armani', 2.7857142857142856)],\n",
              "             'Iheb Guezguez': [('Robes', 2.7857142857142856),\n",
              "              ('Jacket', 2.7857142857142856),\n",
              "              ('Veste', 2.7857142857142856),\n",
              "              ('Coats', 2.7857142857142856),\n",
              "              ('Jeans Lee Cooper', 2.7857142857142856),\n",
              "              ('Short', 2.7857142857142856),\n",
              "              ('Watch', 2.7857142857142856),\n",
              "              ('Shoes', 2.7857142857142856),\n",
              "              ('Jeans', 2.7857142857142856),\n",
              "              ('Pants', 2.7857142857142856)],\n",
              "             'Karim mannai': [('Robes', 2.7857142857142856),\n",
              "              ('Jacket', 2.7857142857142856),\n",
              "              ('Veste', 2.7857142857142856),\n",
              "              ('Jeans Lee Cooper', 2.7857142857142856),\n",
              "              ('Short', 2.7857142857142856),\n",
              "              ('Watch', 2.7857142857142856),\n",
              "              ('Shoes', 2.7857142857142856),\n",
              "              ('Jeans', 2.7857142857142856),\n",
              "              ('Pants', 2.7857142857142856),\n",
              "              ('Jeans Armani', 2.7857142857142856)],\n",
              "             'Mehdi Hantous': [('Robes', 2.7857142857142856),\n",
              "              ('Jacket', 2.7857142857142856),\n",
              "              ('Coats', 2.7857142857142856),\n",
              "              ('Jeans Lee Cooper', 2.7857142857142856),\n",
              "              ('Short', 2.7857142857142856),\n",
              "              ('Watch', 2.7857142857142856),\n",
              "              ('Shoes', 2.7857142857142856),\n",
              "              ('Jeans', 2.7857142857142856),\n",
              "              ('Pants', 2.7857142857142856),\n",
              "              ('Jeans Armani', 2.7857142857142856)],\n",
              "             'Mohamed Youssef': [('Robes', 2.7857142857142856),\n",
              "              ('Jacket', 2.7857142857142856),\n",
              "              ('Veste', 2.7857142857142856),\n",
              "              ('Coats', 2.7857142857142856),\n",
              "              ('Jeans Lee Cooper', 2.7857142857142856),\n",
              "              ('Watch', 2.7857142857142856),\n",
              "              ('Shoes', 2.7857142857142856),\n",
              "              ('Jeans', 2.7857142857142856),\n",
              "              ('Pants', 2.7857142857142856),\n",
              "              ('Jeans Armani', 2.7857142857142856)],\n",
              "             'Mounir Maalej': [('Robes', 2.7857142857142856),\n",
              "              ('Jacket', 2.7857142857142856),\n",
              "              ('Veste', 2.7857142857142856),\n",
              "              ('Coats', 2.7857142857142856),\n",
              "              ('Jeans Lee Cooper', 2.7857142857142856),\n",
              "              ('Short', 2.7857142857142856),\n",
              "              ('Watch', 2.7857142857142856),\n",
              "              ('Shoes', 2.7857142857142856),\n",
              "              ('Jeans', 2.7857142857142856),\n",
              "              ('Pants', 2.7857142857142856)],\n",
              "             'Selim ben Aich': [('Robes', 2.7857142857142856),\n",
              "              ('Jacket', 2.7857142857142856),\n",
              "              ('Veste', 2.7857142857142856),\n",
              "              ('Coats', 2.7857142857142856),\n",
              "              ('Jeans Lee Cooper', 2.7857142857142856),\n",
              "              ('Short', 2.7857142857142856),\n",
              "              ('Watch', 2.7857142857142856),\n",
              "              ('Shoes', 2.7857142857142856),\n",
              "              ('Pants', 2.7857142857142856),\n",
              "              ('Jeans Armani', 2.7857142857142856)],\n",
              "             'Skander Bachta': [('Jacket', 2.7857142857142856),\n",
              "              ('Veste', 2.7857142857142856),\n",
              "              ('Coats', 2.7857142857142856),\n",
              "              ('Jeans Lee Cooper', 2.7857142857142856),\n",
              "              ('Short', 2.7857142857142856),\n",
              "              ('Watch', 2.7857142857142856),\n",
              "              ('Shoes', 2.7857142857142856),\n",
              "              ('Jeans', 2.7857142857142856),\n",
              "              ('Pants', 2.7857142857142856),\n",
              "              ('Jeans Armani', 2.7857142857142856)],\n",
              "             'Slim Jemai': [('Robes', 2.7857142857142856),\n",
              "              ('Veste', 2.7857142857142856),\n",
              "              ('Coats', 2.7857142857142856),\n",
              "              ('Jeans Lee Cooper', 2.7857142857142856),\n",
              "              ('Short', 2.7857142857142856),\n",
              "              ('Watch', 2.7857142857142856),\n",
              "              ('Shoes', 2.7857142857142856),\n",
              "              ('Jeans', 2.7857142857142856),\n",
              "              ('Pants', 2.7857142857142856),\n",
              "              ('Jeans Armani', 2.7857142857142856)],\n",
              "             'Zied Maalej': [('Robes', 2.7857142857142856),\n",
              "              ('Jacket', 2.7857142857142856),\n",
              "              ('Veste', 2.7857142857142856),\n",
              "              ('Coats', 2.7857142857142856),\n",
              "              ('Short', 2.7857142857142856),\n",
              "              ('Watch', 2.7857142857142856),\n",
              "              ('Shoes', 2.7857142857142856),\n",
              "              ('Jeans', 2.7857142857142856),\n",
              "              ('Pants', 2.7857142857142856),\n",
              "              ('Jeans Armani', 2.7857142857142856)]})"
            ]
          },
          "metadata": {},
          "execution_count": 30
        }
      ],
      "source": [
        "best_products"
      ]
    },
    {
      "cell_type": "code",
      "execution_count": 31,
      "metadata": {
        "id": "8X5tyCIY7vEe"
      },
      "outputs": [],
      "source": [
        "cc = ColabCode(port=4002, code=False)"
      ]
    },
    {
      "cell_type": "code",
      "execution_count": 32,
      "metadata": {
        "id": "ZlQA9LLx7vqy"
      },
      "outputs": [],
      "source": [
        "app = FastAPI()\n",
        "\n",
        "@app.get(\"/recommandation\")\n",
        "async def read_root():\n",
        "  return {json.dumps(best_products)}"
      ]
    },
    {
      "cell_type": "code",
      "execution_count": null,
      "metadata": {
        "id": "PjsvYiED7yId"
      },
      "outputs": [],
      "source": [
        "cc.run_app(app=app)"
      ]
    }
  ],
  "metadata": {
    "colab": {
      "name": "Systeme de recommandation.ipynb",
      "provenance": [],
      "collapsed_sections": [],
      "include_colab_link": true
    },
    "kernelspec": {
      "display_name": "Python 3",
      "name": "python3"
    },
    "language_info": {
      "name": "python"
    }
  },
  "nbformat": 4,
  "nbformat_minor": 0
}